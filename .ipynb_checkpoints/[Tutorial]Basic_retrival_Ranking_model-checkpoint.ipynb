{
 "cells": [
  {
   "cell_type": "markdown",
   "metadata": {
    "id": "60WvLvFgtENN"
   },
   "source": [
    "# Setup"
   ]
  },
  {
   "cell_type": "code",
   "execution_count": null,
   "metadata": {
    "colab": {
     "base_uri": "https://localhost:8080/"
    },
    "executionInfo": {
     "elapsed": 21746,
     "status": "ok",
     "timestamp": 1634194809522,
     "user": {
      "displayName": "Tuan Le",
      "photoUrl": "https://lh3.googleusercontent.com/a-/AOh14GgPrpTh11xByYHgbCKqXdJKxPVdfhyy6US5w_5Uig=s64",
      "userId": "15405515657967181495"
     },
     "user_tz": -420
    },
    "id": "cYr8dVc7tD9j",
    "outputId": "d502171d-d22d-4952-cd7b-e641f241ce35"
   },
   "outputs": [],
   "source": [
    "!pip install -q tensorflow-recommenders\n",
    "!pip install -q --upgrade tensorflow-datasets\n",
    "!pip install -q scann\n",
    "!pip install git+git://github.com/altair-viz/altair.git"
   ]
  },
  {
   "cell_type": "code",
   "execution_count": null,
   "metadata": {
    "colab": {
     "base_uri": "https://localhost:8080/"
    },
    "executionInfo": {
     "elapsed": 18009,
     "status": "ok",
     "timestamp": 1634194044631,
     "user": {
      "displayName": "Tuan Le",
      "photoUrl": "https://lh3.googleusercontent.com/a-/AOh14GgPrpTh11xByYHgbCKqXdJKxPVdfhyy6US5w_5Uig=s64",
      "userId": "15405515657967181495"
     },
     "user_tz": -420
    },
    "id": "Z_5GDqFyjJr-",
    "outputId": "c0d5f7a6-9d85-42ff-94ff-e741ca783817"
   },
   "outputs": [],
   "source": [
    "from google.colab import drive\n",
    "drive.mount('/content/gdrive')"
   ]
  },
  {
   "cell_type": "code",
   "execution_count": 1,
   "metadata": {
    "executionInfo": {
     "elapsed": 3249,
     "status": "ok",
     "timestamp": 1634194816174,
     "user": {
      "displayName": "Tuan Le",
      "photoUrl": "https://lh3.googleusercontent.com/a-/AOh14GgPrpTh11xByYHgbCKqXdJKxPVdfhyy6US5w_5Uig=s64",
      "userId": "15405515657967181495"
     },
     "user_tz": -420
    },
    "id": "LR_BzB64tAMO"
   },
   "outputs": [],
   "source": [
    "import os\n",
    "import pprint\n",
    "import tempfile\n",
    "\n",
    "from typing import Dict, Text\n",
    "\n",
    "import numpy as np\n",
    "import pandas as pd\n",
    "import matplotlib.pyplot as plt\n",
    "import sklearn\n",
    "from sklearn import manifold\n",
    "from time import process_time\n",
    "import tensorflow as tf\n",
    "import tensorflow_datasets as tfds\n",
    "import tensorflow_recommenders as tfrs\n",
    "# import altair as alt"
   ]
  },
  {
   "cell_type": "code",
   "execution_count": 2,
   "metadata": {},
   "outputs": [
    {
     "name": "stdout",
     "output_type": "stream",
     "text": [
      "GPU is available\n"
     ]
    }
   ],
   "source": [
    "gpu = len(tf.config.list_physical_devices('GPU'))>0\n",
    "print(\"GPU is\", \"available\" if gpu else \"NOT AVAILABLE\")"
   ]
  },
  {
   "cell_type": "code",
   "execution_count": 3,
   "metadata": {
    "executionInfo": {
     "elapsed": 311,
     "status": "ok",
     "timestamp": 1634194817804,
     "user": {
      "displayName": "Tuan Le",
      "photoUrl": "https://lh3.googleusercontent.com/a-/AOh14GgPrpTh11xByYHgbCKqXdJKxPVdfhyy6US5w_5Uig=s64",
      "userId": "15405515657967181495"
     },
     "user_tz": -420
    },
    "id": "l1-hC92Jdx0w"
   },
   "outputs": [],
   "source": [
    "def plot_pred_ratings(pred,y_true,alpha=0.1):\n",
    "    plt.scatter(range(0,len(y_true)),y_true,label='True')\n",
    "    plt.scatter(range(0,len(pred)),pred,c='r',alpha=alpha,label='Pred')\n",
    "    plt.legend()\n",
    "    plt.show()\n",
    "\n",
    "def plotting_history(rmse, val_rmse, loss, val_loss):\n",
    "  plt.figure(figsize=(8, 8))\n",
    "  plt.subplot(2, 1, 1)\n",
    "  plt.plot(rmse, label='Training RMSE')\n",
    "  plt.plot(val_rmse, label='Validation RMSE')\n",
    "  plt.legend(loc='upper right')\n",
    "  plt.ylabel('RMSE')\n",
    "  # plt.ylim([min(plt.ylim()),1])\n",
    "  # plt.ylim([0,1.0])\n",
    "  plt.title('Training and Validation RMSE')\n",
    "\n",
    "  plt.subplot(2, 1, 2)\n",
    "  plt.plot(loss, label='Training Loss')\n",
    "  plt.plot(val_loss, label='Validation Loss')\n",
    "  plt.legend(loc='upper right')\n",
    "  plt.ylabel('Cross Entropy')\n",
    "  # plt.ylim([0,1.0])\n",
    "  plt.title('Training and Validation Loss')\n",
    "  plt.xlabel('epoch')\n",
    "  plt.show() "
   ]
  },
  {
   "cell_type": "code",
   "execution_count": 4,
   "metadata": {
    "colab": {
     "base_uri": "https://localhost:8080/",
     "height": 297,
     "referenced_widgets": [
      "7e6a2e29db314a37b38f3beb6b563abd",
      "32c007cb6ecd4116935224a133ffa9a4",
      "38524d275a674e9f9bf6f7a634244149",
      "7e1f153def71411a8042d095e4cea754",
      "b8a7307d81f148f0931ed5ff860fe1c6",
      "fcab4b82ebf44e48b40be06bd25ae815",
      "99adf923535048eeba425a3d85bbb3fa",
      "9cf7ee1f76cf41ea910cee27872f91e0",
      "ca345171b0604a5bae67a9b64f8614e0",
      "5b58261b3af44be68ec8ccc4c44d56ed",
      "c735ed89581d47b4946bb50f955daf04",
      "2d4d84779ff4401a8d914a753205c2c0",
      "ab03922156884482b5c46f4f4f29a47f",
      "f8160d7fe38b4d459a91dee0ab3581ae",
      "2fd19658eba44080b4de28417bc6c96b",
      "13148af899494292bdcabc1771a3544b",
      "b900a84e8de34c188e8bbbf845975025",
      "67a8750fc8c24b1eb2b4e5c60cdd1e74",
      "5791b5e585174357999f4edc4a390ca5",
      "6e9320794ba74a7a88d3d59dc26f38b2",
      "e7ee06b4a69f4e5ebb06bde787aa217d",
      "f4d43cc05d3d4702944567003907554b",
      "c9075893e0a342d98f7c7febf4bd6f25",
      "160ee4ba12f5455c88d721805dd500e6",
      "5d2efad9619849de87ae437b17793d9a",
      "09e5404b48454e9982ca0ae215abe09f",
      "ca85f59b195840f4809b7447f73c211c",
      "af66ef1875374bd388d8c4387f47c45f",
      "16425e6191af4e18ac4937d96af1c6a5",
      "715568a830754c3791c4e7da7b0085f3",
      "ff62b14e893843099e923db30e1a3bc3",
      "f2467b2679a54bc29bfc820eb22cf2a8",
      "d1636c7a7a4c47c7ae397e999e9a12c4"
     ]
    },
    "executionInfo": {
     "elapsed": 126659,
     "status": "ok",
     "timestamp": 1634194946546,
     "user": {
      "displayName": "Tuan Le",
      "photoUrl": "https://lh3.googleusercontent.com/a-/AOh14GgPrpTh11xByYHgbCKqXdJKxPVdfhyy6US5w_5Uig=s64",
      "userId": "15405515657967181495"
     },
     "user_tz": -420
    },
    "id": "E3rqlLy2tdp9",
    "outputId": "7077709d-a57f-4002-ec26-e1c9b4e4e122"
   },
   "outputs": [
    {
     "name": "stdout",
     "output_type": "stream",
     "text": [
      "Metal device set to: Apple M1\n",
      "\n",
      "systemMemory: 16.00 GB\n",
      "maxCacheSize: 5.33 GB\n",
      "\n"
     ]
    },
    {
     "name": "stderr",
     "output_type": "stream",
     "text": [
      "2021-10-15 15:20:11.091070: I tensorflow/core/common_runtime/pluggable_device/pluggable_device_factory.cc:305] Could not identify NUMA node of platform GPU ID 0, defaulting to 0. Your kernel may not have been built with NUMA support.\n",
      "2021-10-15 15:20:11.092108: I tensorflow/core/common_runtime/pluggable_device/pluggable_device_factory.cc:271] Created TensorFlow device (/job:localhost/replica:0/task:0/device:GPU:0 with 0 MB memory) -> physical PluggableDevice (device: 0, name: METAL, pci bus id: <undefined>)\n"
     ]
    }
   ],
   "source": [
    "# Load ratings dataset from 100K MovieLens\n",
    "# Ratings data.\n",
    "ratings = tfds.load('movielens/100k-ratings', split='train')\n",
    "# Features of all the available movies.\n",
    "movies = tfds.load('movielens/100k-movies', split='train')"
   ]
  },
  {
   "cell_type": "code",
   "execution_count": null,
   "metadata": {
    "executionInfo": {
     "elapsed": 45656,
     "status": "ok",
     "timestamp": 1634184882724,
     "user": {
      "displayName": "Tuan Le",
      "photoUrl": "https://lh3.googleusercontent.com/a-/AOh14GgPrpTh11xByYHgbCKqXdJKxPVdfhyy6US5w_5Uig=s64",
      "userId": "15405515657967181495"
     },
     "user_tz": -420
    },
    "id": "eYP6KsvWwcBl"
   },
   "outputs": [],
   "source": [
    "ratings_df = tfds.as_dataframe(ratings)\n",
    "movies_df = tfds.as_dataframe(movies)"
   ]
  },
  {
   "cell_type": "code",
   "execution_count": null,
   "metadata": {
    "colab": {
     "base_uri": "https://localhost:8080/"
    },
    "executionInfo": {
     "elapsed": 350,
     "status": "ok",
     "timestamp": 1634116325279,
     "user": {
      "displayName": "Tuan Le",
      "photoUrl": "https://lh3.googleusercontent.com/a-/AOh14GgPrpTh11xByYHgbCKqXdJKxPVdfhyy6US5w_5Uig=s64",
      "userId": "15405515657967181495"
     },
     "user_tz": -420
    },
    "id": "2t-SlRFJwt5U",
    "outputId": "70671dd9-3903-4989-a192-8a8f7f889c2d"
   },
   "outputs": [],
   "source": [
    "ratings_df.info()\n",
    "movies_df.info()"
   ]
  },
  {
   "cell_type": "code",
   "execution_count": null,
   "metadata": {
    "colab": {
     "base_uri": "https://localhost:8080/",
     "height": 377
    },
    "executionInfo": {
     "elapsed": 503,
     "status": "ok",
     "timestamp": 1634120111305,
     "user": {
      "displayName": "Tuan Le",
      "photoUrl": "https://lh3.googleusercontent.com/a-/AOh14GgPrpTh11xByYHgbCKqXdJKxPVdfhyy6US5w_5Uig=s64",
      "userId": "15405515657967181495"
     },
     "user_tz": -420
    },
    "id": "HYE5ALUCJffi",
    "outputId": "f7dc068e-f160-4cc6-a90f-4939e452df97"
   },
   "outputs": [],
   "source": [
    "ratings_df.head()"
   ]
  },
  {
   "cell_type": "code",
   "execution_count": null,
   "metadata": {
    "colab": {
     "base_uri": "https://localhost:8080/"
    },
    "executionInfo": {
     "elapsed": 1130,
     "status": "ok",
     "timestamp": 1634012830548,
     "user": {
      "displayName": "Tuan Le",
      "photoUrl": "https://lh3.googleusercontent.com/a-/AOh14GgPrpTh11xByYHgbCKqXdJKxPVdfhyy6US5w_5Uig=s64",
      "userId": "15405515657967181495"
     },
     "user_tz": -420
    },
    "id": "6UKK0TNVtxG_",
    "outputId": "21f1debf-c29e-4f88-e770-b05bb6b7665f"
   },
   "outputs": [],
   "source": [
    "for x in ratings.take(1).as_numpy_iterator():\n",
    "  pprint.pprint(x)\n",
    "  # print(x)"
   ]
  },
  {
   "cell_type": "code",
   "execution_count": null,
   "metadata": {
    "colab": {
     "base_uri": "https://localhost:8080/"
    },
    "executionInfo": {
     "elapsed": 405,
     "status": "ok",
     "timestamp": 1634022602348,
     "user": {
      "displayName": "Tuan Le",
      "photoUrl": "https://lh3.googleusercontent.com/a-/AOh14GgPrpTh11xByYHgbCKqXdJKxPVdfhyy6US5w_5Uig=s64",
      "userId": "15405515657967181495"
     },
     "user_tz": -420
    },
    "id": "Q6BYtGH4vIzm",
    "outputId": "22be49a4-6e8d-41b2-b7e4-884da4710d71"
   },
   "outputs": [],
   "source": [
    "for x in movies.take(1).as_numpy_iterator():\n",
    "  pprint.pprint(x)\n",
    "  print(x['movie_genres'])"
   ]
  },
  {
   "cell_type": "code",
   "execution_count": null,
   "metadata": {
    "executionInfo": {
     "elapsed": 326,
     "status": "ok",
     "timestamp": 1634195221048,
     "user": {
      "displayName": "Tuan Le",
      "photoUrl": "https://lh3.googleusercontent.com/a-/AOh14GgPrpTh11xByYHgbCKqXdJKxPVdfhyy6US5w_5Uig=s64",
      "userId": "15405515657967181495"
     },
     "user_tz": -420
    },
    "id": "lh5ZQMe9vh_X"
   },
   "outputs": [],
   "source": [
    "# ratings = ratings.map(lambda x: {\n",
    "#     \"movie_title\": x[\"movie_title\"],\n",
    "#     \"user_id\": x[\"user_id\"],\n",
    "# })\n",
    "movies = movies.map(lambda x: x[\"movie_title\"])\n",
    "\n",
    "ratings = ratings.map(lambda x: {\n",
    "    \"movie_title\": x[\"movie_title\"],\n",
    "    \"user_id\": x[\"user_id\"],\n",
    "    \"user_rating\": x[\"user_rating\"]\n",
    "})"
   ]
  },
  {
   "cell_type": "code",
   "execution_count": null,
   "metadata": {
    "colab": {
     "base_uri": "https://localhost:8080/"
    },
    "executionInfo": {
     "elapsed": 316,
     "status": "ok",
     "timestamp": 1634023261402,
     "user": {
      "displayName": "Tuan Le",
      "photoUrl": "https://lh3.googleusercontent.com/a-/AOh14GgPrpTh11xByYHgbCKqXdJKxPVdfhyy6US5w_5Uig=s64",
      "userId": "15405515657967181495"
     },
     "user_tz": -420
    },
    "id": "_nhDrRy2wLau",
    "outputId": "a5e9c096-d25d-4b01-d57c-f6942f208d4c"
   },
   "outputs": [],
   "source": [
    "for x in ratings.take(1).as_numpy_iterator():\n",
    "  pprint.pprint(x)"
   ]
  },
  {
   "cell_type": "code",
   "execution_count": null,
   "metadata": {
    "colab": {
     "base_uri": "https://localhost:8080/"
    },
    "executionInfo": {
     "elapsed": 495,
     "status": "ok",
     "timestamp": 1634023264029,
     "user": {
      "displayName": "Tuan Le",
      "photoUrl": "https://lh3.googleusercontent.com/a-/AOh14GgPrpTh11xByYHgbCKqXdJKxPVdfhyy6US5w_5Uig=s64",
      "userId": "15405515657967181495"
     },
     "user_tz": -420
    },
    "id": "NDPXHMM8wPsE",
    "outputId": "fe1ad030-2fb4-46e1-aff4-f72b2b3c26e6"
   },
   "outputs": [],
   "source": [
    "for x in movies.take(1).as_numpy_iterator():\n",
    "  pprint.pprint(x)"
   ]
  },
  {
   "cell_type": "markdown",
   "metadata": {
    "id": "YEHE7MbxLIEl"
   },
   "source": [
    "# 1.Splitting dataset"
   ]
  },
  {
   "cell_type": "code",
   "execution_count": null,
   "metadata": {
    "executionInfo": {
     "elapsed": 320,
     "status": "ok",
     "timestamp": 1634195226406,
     "user": {
      "displayName": "Tuan Le",
      "photoUrl": "https://lh3.googleusercontent.com/a-/AOh14GgPrpTh11xByYHgbCKqXdJKxPVdfhyy6US5w_5Uig=s64",
      "userId": "15405515657967181495"
     },
     "user_tz": -420
    },
    "id": "XedUKS-XLDY5"
   },
   "outputs": [],
   "source": [
    "tf.random.set_seed(42)\n",
    "shuffled = ratings.shuffle(100000, seed=42, reshuffle_each_iteration=False)\n",
    "\n",
    "train_set = shuffled.take(80000)\n",
    "val_set = shuffled.skip(80000).take(20000)\n",
    "test_set = shuffled.skip(60000).take(20000)"
   ]
  },
  {
   "cell_type": "markdown",
   "metadata": {
    "id": "NTmYDsSBwfc7"
   },
   "source": [
    "### 1.1 For Retrival stage"
   ]
  },
  {
   "cell_type": "code",
   "execution_count": null,
   "metadata": {
    "colab": {
     "base_uri": "https://localhost:8080/"
    },
    "executionInfo": {
     "elapsed": 4755,
     "status": "ok",
     "timestamp": 1634023303256,
     "user": {
      "displayName": "Tuan Le",
      "photoUrl": "https://lh3.googleusercontent.com/a-/AOh14GgPrpTh11xByYHgbCKqXdJKxPVdfhyy6US5w_5Uig=s64",
      "userId": "15405515657967181495"
     },
     "user_tz": -420
    },
    "id": "XlLoMHnxLKeP",
    "outputId": "841b9be2-4ac0-461e-f766-b398b8c341b8"
   },
   "outputs": [],
   "source": [
    "movie_titles = movies.batch(1000)\n",
    "user_ids = ratings.batch(1000000).map(lambda x: x[\"user_id\"])\n",
    "\n",
    "unique_movie_titles = np.unique(np.concatenate(list(movie_titles)))\n",
    "unique_user_ids = np.unique(np.concatenate(list(user_ids)))\n",
    "\n",
    "# unique_movie_titles[:10]\n",
    "len(unique_movie_titles)"
   ]
  },
  {
   "cell_type": "markdown",
   "metadata": {
    "id": "Nm1ejvlMwccP"
   },
   "source": [
    "### 1.2 For Ranking stage"
   ]
  },
  {
   "cell_type": "code",
   "execution_count": null,
   "metadata": {
    "executionInfo": {
     "elapsed": 8693,
     "status": "ok",
     "timestamp": 1634195237653,
     "user": {
      "displayName": "Tuan Le",
      "photoUrl": "https://lh3.googleusercontent.com/a-/AOh14GgPrpTh11xByYHgbCKqXdJKxPVdfhyy6US5w_5Uig=s64",
      "userId": "15405515657967181495"
     },
     "user_tz": -420
    },
    "id": "dcKmlsPOwcHy"
   },
   "outputs": [],
   "source": [
    "movie_titles = ratings.batch(1_000_000).map(lambda x: x[\"movie_title\"])\n",
    "user_ids = ratings.batch(1_000_000).map(lambda x: x[\"user_id\"])\n",
    "\n",
    "unique_movie_titles = np.unique(np.concatenate(list(movie_titles)))\n",
    "unique_user_ids = np.unique(np.concatenate(list(user_ids)))"
   ]
  },
  {
   "cell_type": "markdown",
   "metadata": {
    "id": "4yAaWxeZLndw"
   },
   "source": [
    "# 2.Implementing the Basic Retrival model"
   ]
  },
  {
   "cell_type": "code",
   "execution_count": null,
   "metadata": {
    "executionInfo": {
     "elapsed": 350,
     "status": "ok",
     "timestamp": 1634096160277,
     "user": {
      "displayName": "Tuan Le",
      "photoUrl": "https://lh3.googleusercontent.com/a-/AOh14GgPrpTh11xByYHgbCKqXdJKxPVdfhyy6US5w_5Uig=s64",
      "userId": "15405515657967181495"
     },
     "user_tz": -420
    },
    "id": "ADJslbfxLXLW"
   },
   "outputs": [],
   "source": [
    "embedding_dim = 35"
   ]
  },
  {
   "cell_type": "code",
   "execution_count": null,
   "metadata": {
    "executionInfo": {
     "elapsed": 325,
     "status": "ok",
     "timestamp": 1634022700318,
     "user": {
      "displayName": "Tuan Le",
      "photoUrl": "https://lh3.googleusercontent.com/a-/AOh14GgPrpTh11xByYHgbCKqXdJKxPVdfhyy6US5w_5Uig=s64",
      "userId": "15405515657967181495"
     },
     "user_tz": -420
    },
    "id": "qpO3bYshLtrn"
   },
   "outputs": [],
   "source": [
    "user_model = tf.keras.Sequential([\n",
    "  tf.keras.layers.StringLookup(vocabulary=unique_user_ids, mask_token=None),\n",
    "  tf.keras.layers.Embedding(len(unique_user_ids) + 1, embedding_dim)\n",
    "])"
   ]
  },
  {
   "cell_type": "markdown",
   "metadata": {
    "id": "1nKCNunJMA7i"
   },
   "source": [
    "## Candidate Tower"
   ]
  },
  {
   "cell_type": "code",
   "execution_count": null,
   "metadata": {
    "executionInfo": {
     "elapsed": 5,
     "status": "ok",
     "timestamp": 1634022701718,
     "user": {
      "displayName": "Tuan Le",
      "photoUrl": "https://lh3.googleusercontent.com/a-/AOh14GgPrpTh11xByYHgbCKqXdJKxPVdfhyy6US5w_5Uig=s64",
      "userId": "15405515657967181495"
     },
     "user_tz": -420
    },
    "id": "bfButBktL2EK"
   },
   "outputs": [],
   "source": [
    "movie_model = tf.keras.Sequential([\n",
    "  tf.keras.layers.StringLookup(\n",
    "      vocabulary=unique_movie_titles, mask_token=None),\n",
    "  tf.keras.layers.Embedding(len(unique_movie_titles) + 1, embedding_dim)\n",
    "])"
   ]
  },
  {
   "cell_type": "markdown",
   "metadata": {
    "id": "qgY0z2agMMg8"
   },
   "source": [
    "## Choosing metric"
   ]
  },
  {
   "cell_type": "code",
   "execution_count": null,
   "metadata": {
    "executionInfo": {
     "elapsed": 314,
     "status": "ok",
     "timestamp": 1634022704487,
     "user": {
      "displayName": "Tuan Le",
      "photoUrl": "https://lh3.googleusercontent.com/a-/AOh14GgPrpTh11xByYHgbCKqXdJKxPVdfhyy6US5w_5Uig=s64",
      "userId": "15405515657967181495"
     },
     "user_tz": -420
    },
    "id": "2I6LppowMEGu"
   },
   "outputs": [],
   "source": [
    "metrics = tfrs.metrics.FactorizedTopK(\n",
    "  candidates=movies.batch(128).map(movie_model)\n",
    ")"
   ]
  },
  {
   "cell_type": "markdown",
   "metadata": {
    "id": "6iXEsQ6jMYqm"
   },
   "source": [
    "## Choosing loss"
   ]
  },
  {
   "cell_type": "code",
   "execution_count": null,
   "metadata": {
    "executionInfo": {
     "elapsed": 5,
     "status": "ok",
     "timestamp": 1634022705833,
     "user": {
      "displayName": "Tuan Le",
      "photoUrl": "https://lh3.googleusercontent.com/a-/AOh14GgPrpTh11xByYHgbCKqXdJKxPVdfhyy6US5w_5Uig=s64",
      "userId": "15405515657967181495"
     },
     "user_tz": -420
    },
    "id": "M4kW6LUpMOkE"
   },
   "outputs": [],
   "source": [
    "task = tfrs.tasks.Retrieval(\n",
    "  metrics=metrics\n",
    ")"
   ]
  },
  {
   "cell_type": "markdown",
   "metadata": {
    "id": "ab1d8etdMjJs"
   },
   "source": [
    "## Put into a full model: Basic Retrival"
   ]
  },
  {
   "cell_type": "code",
   "execution_count": null,
   "metadata": {
    "executionInfo": {
     "elapsed": 347,
     "status": "ok",
     "timestamp": 1634022795962,
     "user": {
      "displayName": "Tuan Le",
      "photoUrl": "https://lh3.googleusercontent.com/a-/AOh14GgPrpTh11xByYHgbCKqXdJKxPVdfhyy6US5w_5Uig=s64",
      "userId": "15405515657967181495"
     },
     "user_tz": -420
    },
    "id": "S6TZJrodMlQy"
   },
   "outputs": [],
   "source": [
    "class MovielensModel(tfrs.Model):\n",
    "\n",
    "  def __init__(self, user_model, movie_model):\n",
    "    super().__init__()\n",
    "    self.movie_model: tf.keras.Model = movie_model\n",
    "    self.user_model: tf.keras.Model = user_model\n",
    "    self.task: tf.keras.layers.Layer = task\n",
    "\n",
    "  def compute_loss(self, features: Dict[Text, tf.Tensor], training=False) -> tf.Tensor:\n",
    "    # pick user features and pass to user model\n",
    "    user_embeddings = self.user_model(features[\"user_id\"])\n",
    "\n",
    "    positive_movie_embeddings = self.movie_model(features[\"movie_title\"])\n",
    "\n",
    "    return self.task(user_embeddings, positive_movie_embeddings)"
   ]
  },
  {
   "cell_type": "markdown",
   "metadata": {
    "id": "RScOyNcmN7ff"
   },
   "source": [
    "## Fitting and evaluating the model\n",
    "The optimizer is Adagrad with learning_rate = 0.1"
   ]
  },
  {
   "cell_type": "code",
   "execution_count": null,
   "metadata": {
    "executionInfo": {
     "elapsed": 327,
     "status": "ok",
     "timestamp": 1634022808594,
     "user": {
      "displayName": "Tuan Le",
      "photoUrl": "https://lh3.googleusercontent.com/a-/AOh14GgPrpTh11xByYHgbCKqXdJKxPVdfhyy6US5w_5Uig=s64",
      "userId": "15405515657967181495"
     },
     "user_tz": -420
    },
    "id": "U4YxfYRwN_MG"
   },
   "outputs": [],
   "source": [
    "model = MovielensModel(user_model, movie_model)\n",
    "model.compile(optimizer=tf.keras.optimizers.Adagrad(learning_rate=0.1))"
   ]
  },
  {
   "cell_type": "markdown",
   "metadata": {
    "id": "ZadjrXFbONXP"
   },
   "source": [
    "Shuffle the batch, and cache the training and evaluation data."
   ]
  },
  {
   "cell_type": "code",
   "execution_count": null,
   "metadata": {
    "executionInfo": {
     "elapsed": 4,
     "status": "ok",
     "timestamp": 1634022810066,
     "user": {
      "displayName": "Tuan Le",
      "photoUrl": "https://lh3.googleusercontent.com/a-/AOh14GgPrpTh11xByYHgbCKqXdJKxPVdfhyy6US5w_5Uig=s64",
      "userId": "15405515657967181495"
     },
     "user_tz": -420
    },
    "id": "Pd29EWU5OOxu"
   },
   "outputs": [],
   "source": [
    "cached_train = train_set.shuffle(100000).batch(8192).cache()\n",
    "cached_test = test_set.batch(4096).cache()"
   ]
  },
  {
   "cell_type": "markdown",
   "metadata": {
    "id": "X59-WiAuPAav"
   },
   "source": [
    "### Train the model"
   ]
  },
  {
   "cell_type": "code",
   "execution_count": null,
   "metadata": {
    "colab": {
     "base_uri": "https://localhost:8080/"
    },
    "executionInfo": {
     "elapsed": 53932,
     "status": "ok",
     "timestamp": 1634022866510,
     "user": {
      "displayName": "Tuan Le",
      "photoUrl": "https://lh3.googleusercontent.com/a-/AOh14GgPrpTh11xByYHgbCKqXdJKxPVdfhyy6US5w_5Uig=s64",
      "userId": "15405515657967181495"
     },
     "user_tz": -420
    },
    "id": "rpGLi5k1OUR_",
    "outputId": "c5e0affb-0663-4a75-d3ec-ee88ae1532f3"
   },
   "outputs": [],
   "source": [
    "model.fit(cached_train, epochs=10)"
   ]
  },
  {
   "cell_type": "code",
   "execution_count": null,
   "metadata": {
    "colab": {
     "base_uri": "https://localhost:8080/"
    },
    "executionInfo": {
     "elapsed": 3347,
     "status": "ok",
     "timestamp": 1634022941196,
     "user": {
      "displayName": "Tuan Le",
      "photoUrl": "https://lh3.googleusercontent.com/a-/AOh14GgPrpTh11xByYHgbCKqXdJKxPVdfhyy6US5w_5Uig=s64",
      "userId": "15405515657967181495"
     },
     "user_tz": -420
    },
    "id": "mtPKnaohPIn6",
    "outputId": "ece03fb4-d108-475a-dfe9-ea3948b72074"
   },
   "outputs": [],
   "source": [
    "model.evaluate(cached_test, return_dict=True)"
   ]
  },
  {
   "cell_type": "markdown",
   "metadata": {
    "id": "HYFTh9yT1DTF"
   },
   "source": [
    "## Making Prediction"
   ]
  },
  {
   "cell_type": "code",
   "execution_count": null,
   "metadata": {
    "colab": {
     "base_uri": "https://localhost:8080/"
    },
    "executionInfo": {
     "elapsed": 317,
     "status": "ok",
     "timestamp": 1633947051921,
     "user": {
      "displayName": "Tuan Le",
      "photoUrl": "https://lh3.googleusercontent.com/a-/AOh14GgPrpTh11xByYHgbCKqXdJKxPVdfhyy6US5w_5Uig=s64",
      "userId": "15405515657967181495"
     },
     "user_tz": -420
    },
    "id": "H_70ZOXm1F4i",
    "outputId": "31376572-9e50-42ee-94d3-686fc4f65512"
   },
   "outputs": [],
   "source": [
    "# Create a model that takes in raw query features, and\n",
    "index = tfrs.layers.factorized_top_k.BruteForce(model.user_model)\n",
    "# recommends movies out of the entire movies dataset.\n",
    "index.index_from_dataset(\n",
    "  tf.data.Dataset.zip((movies.batch(100), movies.batch(100).map(model.movie_model)))\n",
    ")\n",
    "\n",
    "# Get recommendations\n",
    "user_id = str(42)\n",
    "_, titles = index(tf.constant([user_id]))\n",
    "print(f\"Recommendations for user {user_id}: {titles[0, :3]}\")"
   ]
  },
  {
   "cell_type": "markdown",
   "metadata": {
    "id": "6e2Ip97OvyA0"
   },
   "source": [
    "# 3.Implement the Ranking model"
   ]
  },
  {
   "cell_type": "code",
   "execution_count": null,
   "metadata": {
    "executionInfo": {
     "elapsed": 8,
     "status": "ok",
     "timestamp": 1634195237653,
     "user": {
      "displayName": "Tuan Le",
      "photoUrl": "https://lh3.googleusercontent.com/a-/AOh14GgPrpTh11xByYHgbCKqXdJKxPVdfhyy6US5w_5Uig=s64",
      "userId": "15405515657967181495"
     },
     "user_tz": -420
    },
    "id": "sS6ENcQb1GQE"
   },
   "outputs": [],
   "source": [
    "class RankingModel(tf.keras.Model):\n",
    "\n",
    "  def __init__(self):\n",
    "    super().__init__()\n",
    "    embedding_dimension = 35\n",
    "\n",
    "    # Compute embeddings for users.\n",
    "    self.user_embeddings = tf.keras.Sequential([\n",
    "      tf.keras.layers.StringLookup(\n",
    "        vocabulary=unique_user_ids, mask_token=None),\n",
    "      tf.keras.layers.Embedding(len(unique_user_ids) + 1, embedding_dimension)\n",
    "    ])\n",
    "\n",
    "    # Compute embeddings for movies.\n",
    "    self.movie_embeddings = tf.keras.Sequential([\n",
    "      tf.keras.layers.StringLookup(\n",
    "        vocabulary=unique_movie_titles, mask_token=None),\n",
    "      tf.keras.layers.Embedding(len(unique_movie_titles) + 1, embedding_dimension)\n",
    "    ])\n",
    "\n",
    "    # Compute predictions.\n",
    "    self.ratings = tf.keras.Sequential([\n",
    "      # Learn multiple dense layers.\n",
    "      tf.keras.layers.Dense(256, activation=\"relu\"),\n",
    "      tf.keras.layers.Dropout(0.3),\n",
    "      tf.keras.layers.Dense(128, activation=\"relu\"),\n",
    "      tf.keras.layers.Dropout(0.3),\n",
    "      # Make rating predictions in the final layer.\n",
    "      tf.keras.layers.Dense(1, activation='sigmoid')\n",
    "  ])\n",
    "\n",
    "  def call(self, inputs):\n",
    "    high = 5.0\n",
    "    low = 0.5\n",
    "\n",
    "    user_id, movie_title = inputs\n",
    "\n",
    "    user_embedding = self.user_embeddings(user_id)\n",
    "    movie_embedding = self.movie_embeddings(movie_title)\n",
    "    # self.outputs = tf.keras.layers.Dense(1, activation='sigmoid')(self.ratings(tf.concat([user_embedding, movie_embedding], axis=1)))\n",
    "\n",
    "    return self.ratings(tf.concat([user_embedding, movie_embedding], axis=1))*(high-low) + low"
   ]
  },
  {
   "cell_type": "markdown",
   "metadata": {
    "id": "Ema-EFAayd8f"
   },
   "source": [
    "__Test this ranking model__\n",
    "+ __Inputs:__ user_id and movie_name\n",
    "+ __Output:__ predicted rating of the user on the movie"
   ]
  },
  {
   "cell_type": "code",
   "execution_count": null,
   "metadata": {
    "colab": {
     "base_uri": "https://localhost:8080/"
    },
    "executionInfo": {
     "elapsed": 6,
     "status": "ok",
     "timestamp": 1634098796202,
     "user": {
      "displayName": "Tuan Le",
      "photoUrl": "https://lh3.googleusercontent.com/a-/AOh14GgPrpTh11xByYHgbCKqXdJKxPVdfhyy6US5w_5Uig=s64",
      "userId": "15405515657967181495"
     },
     "user_tz": -420
    },
    "id": "XM2DVU9gzD6C",
    "outputId": "ff159852-f6ec-40c5-ae6e-8becfd892db1"
   },
   "outputs": [],
   "source": [
    "RankingModel()(([\"42\"], [\"One Flew Over the Cuckoo's Nest (1975)\"]))"
   ]
  },
  {
   "cell_type": "markdown",
   "metadata": {
    "id": "Vy5YyyQrhHQi"
   },
   "source": [
    "## Choosing loss function and metrics\n",
    "\n",
    "Metrics: RMSE"
   ]
  },
  {
   "cell_type": "markdown",
   "metadata": {
    "id": "Mwrc9RoMheL3"
   },
   "source": [
    "## Put into a full model: Ranking"
   ]
  },
  {
   "cell_type": "code",
   "execution_count": null,
   "metadata": {
    "executionInfo": {
     "elapsed": 302,
     "status": "ok",
     "timestamp": 1634195249267,
     "user": {
      "displayName": "Tuan Le",
      "photoUrl": "https://lh3.googleusercontent.com/a-/AOh14GgPrpTh11xByYHgbCKqXdJKxPVdfhyy6US5w_5Uig=s64",
      "userId": "15405515657967181495"
     },
     "user_tz": -420
    },
    "id": "CC4stgEkhjlZ"
   },
   "outputs": [],
   "source": [
    "class MovielensModel(tfrs.models.Model):\n",
    "\n",
    "  def __init__(self):\n",
    "    super().__init__()\n",
    "    self.ranking_model: tf.keras.Model = RankingModel()\n",
    "    self.task: tf.keras.layers.Layer = tfrs.tasks.Ranking(\n",
    "      loss = tf.keras.losses.MeanSquaredError(),\n",
    "      metrics=[tf.keras.metrics.RootMeanSquaredError()]\n",
    "    )\n",
    "\n",
    "  def call(self, features: Dict[str, tf.Tensor]) -> tf.Tensor:\n",
    "    return self.ranking_model(\n",
    "        (features[\"user_id\"], features[\"movie_title\"]))\n",
    "\n",
    "  def compute_loss(self, features: Dict[Text, tf.Tensor], training=False) -> tf.Tensor:\n",
    "    labels = features.pop(\"user_rating\")\n",
    "\n",
    "    rating_predictions = self(features)\n",
    "\n",
    "    # The task computes the loss and the metrics.\n",
    "    return self.task(labels=labels, predictions=rating_predictions)"
   ]
  },
  {
   "cell_type": "code",
   "execution_count": null,
   "metadata": {
    "executionInfo": {
     "elapsed": 408,
     "status": "ok",
     "timestamp": 1634195279198,
     "user": {
      "displayName": "Tuan Le",
      "photoUrl": "https://lh3.googleusercontent.com/a-/AOh14GgPrpTh11xByYHgbCKqXdJKxPVdfhyy6US5w_5Uig=s64",
      "userId": "15405515657967181495"
     },
     "user_tz": -420
    },
    "id": "1dVORb1ZXMDj"
   },
   "outputs": [],
   "source": [
    "ranking_model = MovielensModel()\n",
    "# ranking_model.compile(optimizer=tf.keras.optimizers.Adagrad(learning_rate=0.09))\n",
    "ranking_model.compile(optimizer=tf.keras.optimizers.Adam(learning_rate=0.001))\n",
    "\n",
    "reduce_lr = tf.keras.callbacks.ReduceLROnPlateau(monitor='val_loss', factor=0.1, patience=5, min_lr=0.0001)\n",
    "early_stop = tf.keras.callbacks.EarlyStopping(monitor='val_loss', patience=10)"
   ]
  },
  {
   "cell_type": "code",
   "execution_count": null,
   "metadata": {
    "executionInfo": {
     "elapsed": 325,
     "status": "ok",
     "timestamp": 1634195281130,
     "user": {
      "displayName": "Tuan Le",
      "photoUrl": "https://lh3.googleusercontent.com/a-/AOh14GgPrpTh11xByYHgbCKqXdJKxPVdfhyy6US5w_5Uig=s64",
      "userId": "15405515657967181495"
     },
     "user_tz": -420
    },
    "id": "L5lOOImcXa4X"
   },
   "outputs": [],
   "source": [
    "cached_train = train_set.shuffle(100000).batch(8192).cache()\n",
    "cached_test = test_set.batch(4096).cache()\n",
    "cached_val = val_set.batch(4096).cache()"
   ]
  },
  {
   "cell_type": "markdown",
   "metadata": {
    "id": "vTzTUYC9eWRt"
   },
   "source": [
    "## Fitting and evaluating the Ranking model"
   ]
  },
  {
   "cell_type": "markdown",
   "metadata": {
    "id": "IQ11hChyeauA"
   },
   "source": [
    "### Train the model"
   ]
  },
  {
   "cell_type": "code",
   "execution_count": null,
   "metadata": {
    "colab": {
     "base_uri": "https://localhost:8080/"
    },
    "executionInfo": {
     "elapsed": 19262,
     "status": "ok",
     "timestamp": 1634195302901,
     "user": {
      "displayName": "Tuan Le",
      "photoUrl": "https://lh3.googleusercontent.com/a-/AOh14GgPrpTh11xByYHgbCKqXdJKxPVdfhyy6US5w_5Uig=s64",
      "userId": "15405515657967181495"
     },
     "user_tz": -420
    },
    "id": "R-WoCCpkXm9R",
    "outputId": "cfb9e668-422a-4957-ddf5-98a1da528af7"
   },
   "outputs": [],
   "source": [
    "history_ranking = ranking_model.fit(cached_train, \n",
    "                                    validation_data=cached_val, \n",
    "                                    epochs=100, \n",
    "                                    callbacks = [reduce_lr])"
   ]
  },
  {
   "cell_type": "code",
   "execution_count": null,
   "metadata": {
    "colab": {
     "base_uri": "https://localhost:8080/"
    },
    "executionInfo": {
     "elapsed": 1975,
     "status": "ok",
     "timestamp": 1634195448165,
     "user": {
      "displayName": "Tuan Le",
      "photoUrl": "https://lh3.googleusercontent.com/a-/AOh14GgPrpTh11xByYHgbCKqXdJKxPVdfhyy6US5w_5Uig=s64",
      "userId": "15405515657967181495"
     },
     "user_tz": -420
    },
    "id": "0A_mYJexazRY",
    "outputId": "c338bf94-3a32-4637-b976-19224d2a94c1"
   },
   "outputs": [],
   "source": [
    "ranking_model.evaluate(cached_test, return_dict=True)"
   ]
  },
  {
   "cell_type": "code",
   "execution_count": null,
   "metadata": {
    "colab": {
     "base_uri": "https://localhost:8080/",
     "height": 513
    },
    "executionInfo": {
     "elapsed": 825,
     "status": "ok",
     "timestamp": 1634195455219,
     "user": {
      "displayName": "Tuan Le",
      "photoUrl": "https://lh3.googleusercontent.com/a-/AOh14GgPrpTh11xByYHgbCKqXdJKxPVdfhyy6US5w_5Uig=s64",
      "userId": "15405515657967181495"
     },
     "user_tz": -420
    },
    "id": "di1YwDruy2nU",
    "outputId": "2fb155e3-cb6e-4065-9dfb-71ee64874297"
   },
   "outputs": [],
   "source": [
    "rmse = history_ranking.history['root_mean_squared_error']\n",
    "val_rmse = history_ranking.history['val_root_mean_squared_error']\n",
    "\n",
    "loss = history_ranking.history['loss']\n",
    "val_loss = history_ranking.history['val_loss']\n",
    "\n",
    "plotting_history(rmse, val_rmse, loss, val_loss)"
   ]
  },
  {
   "cell_type": "markdown",
   "metadata": {
    "id": "bUf5fc1UikJZ"
   },
   "source": [
    "### Saving the model"
   ]
  },
  {
   "cell_type": "code",
   "execution_count": null,
   "metadata": {},
   "outputs": [],
   "source": [
    "import datetime, os\n",
    "curr_date = str(datetime.datetime.now().year) + '_' + str(datetime.datetime.now().month) + '_' + str(datetime.datetime.now().day)\n",
    "# model_folder = '/content/gdrive/MyDrive/Colab_Notebooks/XProject/model'\n",
    "# model_path = os.path.join(model_folder, f'ranking_model_w_{curr_date}')\n",
    "model_path = './ranking_model_w_2021_10_14.h5'"
   ]
  },
  {
   "cell_type": "code",
   "execution_count": null,
   "metadata": {
    "colab": {
     "base_uri": "https://localhost:8080/"
    },
    "executionInfo": {
     "elapsed": 2454,
     "status": "ok",
     "timestamp": 1634204188377,
     "user": {
      "displayName": "Tuan Le",
      "photoUrl": "https://lh3.googleusercontent.com/a-/AOh14GgPrpTh11xByYHgbCKqXdJKxPVdfhyy6US5w_5Uig=s64",
      "userId": "15405515657967181495"
     },
     "user_tz": -420
    },
    "id": "CUwmLfuaimT8",
    "outputId": "145bb296-0111-4a3f-c62a-e9c013bd9248"
   },
   "outputs": [],
   "source": [
    "# ranking_model.save_weights(model_path)\n",
    "# ranking_model.save(model_path)\n",
    "tf.saved_model.save(ranking_model, model_path)"
   ]
  },
  {
   "cell_type": "markdown",
   "metadata": {
    "id": "FkypE7Ieutw7"
   },
   "source": [
    "### Loding the model"
   ]
  },
  {
   "cell_type": "code",
   "execution_count": null,
   "metadata": {
    "colab": {
     "base_uri": "https://localhost:8080/"
    },
    "executionInfo": {
     "elapsed": 961,
     "status": "ok",
     "timestamp": 1634204395463,
     "user": {
      "displayName": "Tuan Le",
      "photoUrl": "https://lh3.googleusercontent.com/a-/AOh14GgPrpTh11xByYHgbCKqXdJKxPVdfhyy6US5w_5Uig=s64",
      "userId": "15405515657967181495"
     },
     "user_tz": -420
    },
    "id": "prYBv1JEuvh6",
    "outputId": "d467b38d-43c5-4202-f94d-399894af2306"
   },
   "outputs": [],
   "source": [
    "# Assign the model\n",
    "loaded_ranking_model = MovielensModel()\n",
    "# load_ranking_model = tf.saved_model.load(model_path)\n",
    "\n",
    "# Compile the model\n",
    "loaded_ranking_model.compile(optimizer=tf.keras.optimizers.Adam(learning_rate=0.001))\n",
    "loaded_ranking_model.fit(cached_train, epochs=1)\n",
    "\n",
    "# Restore the weights\n",
    "loaded_ranking_model.load_weights(model_path)"
   ]
  },
  {
   "cell_type": "code",
   "execution_count": null,
   "metadata": {
    "colab": {
     "base_uri": "https://localhost:8080/"
    },
    "executionInfo": {
     "elapsed": 307,
     "status": "ok",
     "timestamp": 1634204425027,
     "user": {
      "displayName": "Tuan Le",
      "photoUrl": "https://lh3.googleusercontent.com/a-/AOh14GgPrpTh11xByYHgbCKqXdJKxPVdfhyy6US5w_5Uig=s64",
      "userId": "15405515657967181495"
     },
     "user_tz": -420
    },
    "id": "xoTdpELVKep3",
    "outputId": "cb9870e9-fdc5-4bd1-b9d8-69e8ef1de141"
   },
   "outputs": [],
   "source": [
    "loaded_ranking_model.evaluate(cached_test, return_dict=True)"
   ]
  },
  {
   "cell_type": "markdown",
   "metadata": {
    "id": "nTkWXlzd2IH7"
   },
   "source": [
    "## Plot the embedding space"
   ]
  },
  {
   "cell_type": "code",
   "execution_count": null,
   "metadata": {
    "cellView": "form",
    "executionInfo": {
     "elapsed": 318,
     "status": "ok",
     "timestamp": 1634185059278,
     "user": {
      "displayName": "Tuan Le",
      "photoUrl": "https://lh3.googleusercontent.com/a-/AOh14GgPrpTh11xByYHgbCKqXdJKxPVdfhyy6US5w_5Uig=s64",
      "userId": "15405515657967181495"
     },
     "user_tz": -420
    },
    "id": "fu2XRj6H2VXU"
   },
   "outputs": [],
   "source": [
    "#@title Functions for plotting\n",
    "def visualize_movie_embeddings(data, x, y):\n",
    "  nearest = alt.selection(\n",
    "      type='single', encodings=['x', 'y'], on='mouseover', nearest=True,\n",
    "      empty='none')\n",
    "  base = alt.Chart().mark_circle().encode(\n",
    "      x=x,\n",
    "      y=y,\n",
    "      color=alt.condition(genre_filter, \"genre\", alt.value(\"whitesmoke\")),\n",
    "  ).properties(\n",
    "      width=600,\n",
    "      height=600,\n",
    "      selection=nearest)\n",
    "  text = alt.Chart().mark_text(align='left', dx=5, dy=-5).encode(\n",
    "      x=x,\n",
    "      y=y,\n",
    "      text=alt.condition(nearest, 'title', alt.value('')))\n",
    "  return alt.hconcat(alt.layer(base, text), genre_chart, data=data)\n",
    "\n",
    "def tsne_movie_embeddings(model):\n",
    "  \"\"\"Visualizes the movie embeddings, projected using t-SNE with Cosine measure.\n",
    "  Args:\n",
    "    model: A MFModel object.\n",
    "  \"\"\"\n",
    "  tsne = sklearn.manifold.TSNE(\n",
    "      n_components=2, perplexity=40, metric='cosine', early_exaggeration=10.0,\n",
    "      init='pca', verbose=True, n_iter=400)\n",
    "\n",
    "  print('Running t-SNE...')\n",
    "  V_proj = tsne.fit_transform(model.ranking_model.movie_embeddings[\"movie_id\"])\n",
    "  movies.loc[:,'x'] = V_proj[:, 0]\n",
    "  movies.loc[:,'y'] = V_proj[:, 1]\n",
    "  return visualize_movie_embeddings(movies, 'x', 'y')"
   ]
  },
  {
   "cell_type": "code",
   "execution_count": null,
   "metadata": {
    "id": "tNE4Py5qblr8"
   },
   "outputs": [],
   "source": [
    "tsne_movie_embeddings(ranking_model)"
   ]
  },
  {
   "cell_type": "markdown",
   "metadata": {
    "id": "vv2M_1ud2Cjy"
   },
   "source": [
    "## Test the model"
   ]
  },
  {
   "cell_type": "code",
   "execution_count": null,
   "metadata": {
    "colab": {
     "base_uri": "https://localhost:8080/"
    },
    "executionInfo": {
     "elapsed": 4,
     "status": "ok",
     "timestamp": 1634185062798,
     "user": {
      "displayName": "Tuan Le",
      "photoUrl": "https://lh3.googleusercontent.com/a-/AOh14GgPrpTh11xByYHgbCKqXdJKxPVdfhyy6US5w_5Uig=s64",
      "userId": "15405515657967181495"
     },
     "user_tz": -420
    },
    "id": "EB3t_jMEXrKE",
    "outputId": "a7de003a-11f7-4e9a-967a-e950d61a41fd"
   },
   "outputs": [],
   "source": [
    "ratings_pred = {}\n",
    "test_movie_titles = [\"M*A*S*H (1970)\", \"Dances with Wolves (1990)\", \"Speed (1994)\"]\n",
    "for movie in test_movie_titles:\n",
    "\n",
    "  ratings_pred[movie] = ranking_model({\n",
    "      \"user_id\": np.array([\"42\"]),\n",
    "      \"movie_title\": np.array([movie])\n",
    "      })\n",
    "\n",
    "print(\"Ratings:\")\n",
    "for title, score in sorted(ratings_pred.items(), key=lambda x: x[1], reverse=True):\n",
    "  print(f\"{title}: {score}\")"
   ]
  },
  {
   "cell_type": "markdown",
   "metadata": {
    "id": "FSvZexTt62Rk"
   },
   "source": [
    "# 4.Adding extra features\n",
    "Other features of the movie data:\n",
    "\n",
    "+ Movie genres\n",
    "+ User occupations\n",
    "+ Movie title (Categorical)\n",
    "+ User Id (Categorical)\n",
    "+ Timestamp (Continuous)\n"
   ]
  },
  {
   "cell_type": "markdown",
   "metadata": {
    "id": "yHpD46dF7vPh"
   },
   "source": [
    "## Turning categorical features into embeddings"
   ]
  },
  {
   "cell_type": "markdown",
   "metadata": {
    "id": "nvJ4aZ9F8HiM"
   },
   "source": [
    "### Define the vocabulary"
   ]
  },
  {
   "cell_type": "code",
   "execution_count": null,
   "metadata": {
    "executionInfo": {
     "elapsed": 357,
     "status": "ok",
     "timestamp": 1634116724868,
     "user": {
      "displayName": "Tuan Le",
      "photoUrl": "https://lh3.googleusercontent.com/a-/AOh14GgPrpTh11xByYHgbCKqXdJKxPVdfhyy6US5w_5Uig=s64",
      "userId": "15405515657967181495"
     },
     "user_tz": -420
    },
    "id": "pBQxtzPmdLD8"
   },
   "outputs": [],
   "source": [
    "ratings_new = tfds.load('movielens/100k-ratings', split='train')\n",
    "movies_new = tfds.load('movielens/100k-movies', split='train')"
   ]
  },
  {
   "cell_type": "code",
   "execution_count": null,
   "metadata": {
    "colab": {
     "base_uri": "https://localhost:8080/"
    },
    "executionInfo": {
     "elapsed": 415,
     "status": "ok",
     "timestamp": 1634119512015,
     "user": {
      "displayName": "Tuan Le",
      "photoUrl": "https://lh3.googleusercontent.com/a-/AOh14GgPrpTh11xByYHgbCKqXdJKxPVdfhyy6US5w_5Uig=s64",
      "userId": "15405515657967181495"
     },
     "user_tz": -420
    },
    "id": "AqdlTxRdGUEd",
    "outputId": "4572c1d8-d7e8-42b6-ab31-7eafe1684403"
   },
   "outputs": [],
   "source": [
    "for i in movies_new.take(1).as_numpy_iterator():\n",
    "  pprint.pprint(i)"
   ]
  },
  {
   "cell_type": "code",
   "execution_count": null,
   "metadata": {
    "executionInfo": {
     "elapsed": 62654,
     "status": "ok",
     "timestamp": 1634117898847,
     "user": {
      "displayName": "Tuan Le",
      "photoUrl": "https://lh3.googleusercontent.com/a-/AOh14GgPrpTh11xByYHgbCKqXdJKxPVdfhyy6US5w_5Uig=s64",
      "userId": "15405515657967181495"
     },
     "user_tz": -420
    },
    "id": "f1X_VRRV8nQ9"
   },
   "outputs": [],
   "source": [
    "# Create a movie titles vocabulary\n",
    "movie_title_lookup = tf.keras.layers.StringLookup()\n",
    "# Build the vocabulary\n",
    "movie_title_lookup.adapt(ratings_new.map(lambda x: x[\"movie_title\"]))"
   ]
  },
  {
   "cell_type": "code",
   "execution_count": null,
   "metadata": {
    "colab": {
     "base_uri": "https://localhost:8080/"
    },
    "executionInfo": {
     "elapsed": 369,
     "status": "ok",
     "timestamp": 1634117006414,
     "user": {
      "displayName": "Tuan Le",
      "photoUrl": "https://lh3.googleusercontent.com/a-/AOh14GgPrpTh11xByYHgbCKqXdJKxPVdfhyy6US5w_5Uig=s64",
      "userId": "15405515657967181495"
     },
     "user_tz": -420
    },
    "id": "quQW4NW98NWk",
    "outputId": "e147efb9-0885-4f40-dae1-c9035fd4d341"
   },
   "outputs": [],
   "source": [
    "print(f\"Vocabulary: {movie_title_lookup.get_vocabulary()[:10]}\")"
   ]
  },
  {
   "cell_type": "code",
   "execution_count": null,
   "metadata": {
    "colab": {
     "base_uri": "https://localhost:8080/"
    },
    "executionInfo": {
     "elapsed": 361,
     "status": "ok",
     "timestamp": 1634117240987,
     "user": {
      "displayName": "Tuan Le",
      "photoUrl": "https://lh3.googleusercontent.com/a-/AOh14GgPrpTh11xByYHgbCKqXdJKxPVdfhyy6US5w_5Uig=s64",
      "userId": "15405515657967181495"
     },
     "user_tz": -420
    },
    "id": "HMD3kTc29rDa",
    "outputId": "f8af710a-83d5-4528-a96d-b919583761a7"
   },
   "outputs": [],
   "source": [
    "# Can use this layer to translate raw token to embedding ids\n",
    "movie_title_lookup([\"Star Wars (1977)\", \"One Flew Over the Cuckoo's Nest (1975)\", 'Fargo (1996)', 'Daredevil'])"
   ]
  },
  {
   "cell_type": "markdown",
   "metadata": {
    "id": "74ilJswx-5RB"
   },
   "source": [
    "### Defining embedding layer"
   ]
  },
  {
   "cell_type": "code",
   "execution_count": null,
   "metadata": {
    "executionInfo": {
     "elapsed": 351,
     "status": "ok",
     "timestamp": 1634117903774,
     "user": {
      "displayName": "Tuan Le",
      "photoUrl": "https://lh3.googleusercontent.com/a-/AOh14GgPrpTh11xByYHgbCKqXdJKxPVdfhyy6US5w_5Uig=s64",
      "userId": "15405515657967181495"
     },
     "user_tz": -420
    },
    "id": "qELwJ_WL99PI"
   },
   "outputs": [],
   "source": [
    "embed_dim = 35\n",
    "movie_title_embedding = tf.keras.layers.Embedding(\n",
    "    # Using the vocabulary lookup layer\n",
    "    input_dim=movie_title_lookup.vocabulary_size(), \n",
    "    output_dim=embed_dim\n",
    ")"
   ]
  },
  {
   "cell_type": "markdown",
   "metadata": {
    "id": "5bcTxu52BJK2"
   },
   "source": [
    "__Put into one layer__"
   ]
  },
  {
   "cell_type": "code",
   "execution_count": null,
   "metadata": {
    "colab": {
     "base_uri": "https://localhost:8080/",
     "height": 77
    },
    "executionInfo": {
     "elapsed": 458,
     "status": "ok",
     "timestamp": 1634118003922,
     "user": {
      "displayName": "Tuan Le",
      "photoUrl": "https://lh3.googleusercontent.com/a-/AOh14GgPrpTh11xByYHgbCKqXdJKxPVdfhyy6US5w_5Uig=s64",
      "userId": "15405515657967181495"
     },
     "user_tz": -420
    },
    "id": "jsbYRvou_Of7",
    "outputId": "9f975fc0-f8d4-45b7-a486-68638c020edb"
   },
   "outputs": [],
   "source": [
    "movie_title_model = tf.keras.Sequential([movie_title_lookup, movie_title_embedding])\n",
    "# Plotting to see the layer structure\n",
    "tf.keras.utils.plot_model(movie_title_model, \"feature_embedding.png\", show_shapes=True)"
   ]
  },
  {
   "cell_type": "code",
   "execution_count": null,
   "metadata": {
    "colab": {
     "base_uri": "https://localhost:8080/"
    },
    "executionInfo": {
     "elapsed": 393,
     "status": "ok",
     "timestamp": 1634118017626,
     "user": {
      "displayName": "Tuan Le",
      "photoUrl": "https://lh3.googleusercontent.com/a-/AOh14GgPrpTh11xByYHgbCKqXdJKxPVdfhyy6US5w_5Uig=s64",
      "userId": "15405515657967181495"
     },
     "user_tz": -420
    },
    "id": "PaiLO-1J_-gD",
    "outputId": "baa90102-bb08-4fd9-a352-d5f6ef823d87"
   },
   "outputs": [],
   "source": [
    "movie_title_model([\"Star Wars (1977)\"])"
   ]
  },
  {
   "cell_type": "markdown",
   "metadata": {
    "id": "DgbdcNkGBnDY"
   },
   "source": [
    "### Applying on user id"
   ]
  },
  {
   "cell_type": "code",
   "execution_count": null,
   "metadata": {
    "executionInfo": {
     "elapsed": 57577,
     "status": "ok",
     "timestamp": 1634119228447,
     "user": {
      "displayName": "Tuan Le",
      "photoUrl": "https://lh3.googleusercontent.com/a-/AOh14GgPrpTh11xByYHgbCKqXdJKxPVdfhyy6US5w_5Uig=s64",
      "userId": "15405515657967181495"
     },
     "user_tz": -420
    },
    "id": "siixRRj3BqG7"
   },
   "outputs": [],
   "source": [
    "user_id_lookup = tf.keras.layers.StringLookup()\n",
    "user_id_lookup.adapt(ratings_new.map(lambda x: x[\"user_id\"]))\n",
    "\n",
    "user_id_embedding = tf.keras.layers.Embedding(user_id_lookup.vocabulary_size(), 35)\n",
    "\n",
    "user_id_model = tf.keras.Sequential([user_id_lookup, user_id_embedding])"
   ]
  },
  {
   "cell_type": "markdown",
   "metadata": {
    "id": "FulTCT_SFRyf"
   },
   "source": [
    "### Applying on movie genres"
   ]
  },
  {
   "cell_type": "code",
   "execution_count": null,
   "metadata": {
    "id": "fCDiDNiKFU5Z"
   },
   "outputs": [],
   "source": [
    "genre_lookup = tf.keras.layers.StringLookup()\n",
    "genre_lookup.adapt(ratings_new.map(lambda x: x[\"movie_genres\"]))\n",
    "\n",
    "genre_embedding = tf.keras.layers.Embedding(genre_lookup.vocabulary_size(), 35)\n",
    "\n",
    "genre_model = tf.keras.Sequential([genre_lookup, genre_embedding])"
   ]
  },
  {
   "cell_type": "code",
   "execution_count": null,
   "metadata": {
    "id": "emI3nGmEF92U"
   },
   "outputs": [],
   "source": []
  }
 ],
 "metadata": {
  "accelerator": "GPU",
  "colab": {
   "authorship_tag": "ABX9TyOdMYePcyrGBGMuXifAG0Ia",
   "machine_shape": "hm",
   "name": "[Tutorial]Basic_retrival_Ranking_model.ipynb",
   "provenance": [],
   "toc_visible": true
  },
  "interpreter": {
   "hash": "4f7219e8a2ba883cb57173f07ffb09ce0b28972f0f720d1e93c6d5ea867603f8"
  },
  "kernelspec": {
   "display_name": "Python 3.9.0 64-bit ('ml30_recommender': conda)",
   "language": "python",
   "name": "python390jvsc74a57bd066926885004af4e0349cdfe9ac40b89eeac4e676502978d2d17a5ce217a34f2f"
  },
  "language_info": {
   "codemirror_mode": {
    "name": "ipython",
    "version": 3
   },
   "file_extension": ".py",
   "mimetype": "text/x-python",
   "name": "python",
   "nbconvert_exporter": "python",
   "pygments_lexer": "ipython3",
   "version": "3.9.0"
  },
  "widgets": {
   "application/vnd.jupyter.widget-state+json": {
    "09e5404b48454e9982ca0ae215abe09f": {
     "model_module": "@jupyter-widgets/controls",
     "model_module_version": "1.5.0",
     "model_name": "FloatProgressModel",
     "state": {
      "_dom_classes": [],
      "_model_module": "@jupyter-widgets/controls",
      "_model_module_version": "1.5.0",
      "_model_name": "FloatProgressModel",
      "_view_count": null,
      "_view_module": "@jupyter-widgets/controls",
      "_view_module_version": "1.5.0",
      "_view_name": "ProgressView",
      "bar_style": "success",
      "description": "",
      "description_tooltip": null,
      "layout": "IPY_MODEL_ff62b14e893843099e923db30e1a3bc3",
      "max": 1,
      "min": 0,
      "orientation": "horizontal",
      "style": "IPY_MODEL_715568a830754c3791c4e7da7b0085f3",
      "value": 1
     }
    },
    "13148af899494292bdcabc1771a3544b": {
     "model_module": "@jupyter-widgets/controls",
     "model_module_version": "1.5.0",
     "model_name": "HTMLModel",
     "state": {
      "_dom_classes": [],
      "_model_module": "@jupyter-widgets/controls",
      "_model_module_version": "1.5.0",
      "_model_name": "HTMLModel",
      "_view_count": null,
      "_view_module": "@jupyter-widgets/controls",
      "_view_module_version": "1.5.0",
      "_view_name": "HTMLView",
      "description": "",
      "description_tooltip": null,
      "layout": "IPY_MODEL_f4d43cc05d3d4702944567003907554b",
      "placeholder": "​",
      "style": "IPY_MODEL_e7ee06b4a69f4e5ebb06bde787aa217d",
      "value": " 4/4 [00:00&lt;00:00,  2.11 MiB/s]"
     }
    },
    "160ee4ba12f5455c88d721805dd500e6": {
     "model_module": "@jupyter-widgets/base",
     "model_module_version": "1.2.0",
     "model_name": "LayoutModel",
     "state": {
      "_model_module": "@jupyter-widgets/base",
      "_model_module_version": "1.2.0",
      "_model_name": "LayoutModel",
      "_view_count": null,
      "_view_module": "@jupyter-widgets/base",
      "_view_module_version": "1.2.0",
      "_view_name": "LayoutView",
      "align_content": null,
      "align_items": null,
      "align_self": null,
      "border": null,
      "bottom": null,
      "display": null,
      "flex": null,
      "flex_flow": null,
      "grid_area": null,
      "grid_auto_columns": null,
      "grid_auto_flow": null,
      "grid_auto_rows": null,
      "grid_column": null,
      "grid_gap": null,
      "grid_row": null,
      "grid_template_areas": null,
      "grid_template_columns": null,
      "grid_template_rows": null,
      "height": null,
      "justify_content": null,
      "justify_items": null,
      "left": null,
      "margin": null,
      "max_height": null,
      "max_width": null,
      "min_height": null,
      "min_width": null,
      "object_fit": null,
      "object_position": null,
      "order": null,
      "overflow": null,
      "overflow_x": null,
      "overflow_y": null,
      "padding": null,
      "right": null,
      "top": null,
      "visibility": null,
      "width": null
     }
    },
    "16425e6191af4e18ac4937d96af1c6a5": {
     "model_module": "@jupyter-widgets/base",
     "model_module_version": "1.2.0",
     "model_name": "LayoutModel",
     "state": {
      "_model_module": "@jupyter-widgets/base",
      "_model_module_version": "1.2.0",
      "_model_name": "LayoutModel",
      "_view_count": null,
      "_view_module": "@jupyter-widgets/base",
      "_view_module_version": "1.2.0",
      "_view_name": "LayoutView",
      "align_content": null,
      "align_items": null,
      "align_self": null,
      "border": null,
      "bottom": null,
      "display": null,
      "flex": null,
      "flex_flow": null,
      "grid_area": null,
      "grid_auto_columns": null,
      "grid_auto_flow": null,
      "grid_auto_rows": null,
      "grid_column": null,
      "grid_gap": null,
      "grid_row": null,
      "grid_template_areas": null,
      "grid_template_columns": null,
      "grid_template_rows": null,
      "height": null,
      "justify_content": null,
      "justify_items": null,
      "left": null,
      "margin": null,
      "max_height": null,
      "max_width": null,
      "min_height": null,
      "min_width": null,
      "object_fit": null,
      "object_position": null,
      "order": null,
      "overflow": null,
      "overflow_x": null,
      "overflow_y": null,
      "padding": null,
      "right": null,
      "top": null,
      "visibility": null,
      "width": null
     }
    },
    "2d4d84779ff4401a8d914a753205c2c0": {
     "model_module": "@jupyter-widgets/controls",
     "model_module_version": "1.5.0",
     "model_name": "HBoxModel",
     "state": {
      "_dom_classes": [],
      "_model_module": "@jupyter-widgets/controls",
      "_model_module_version": "1.5.0",
      "_model_name": "HBoxModel",
      "_view_count": null,
      "_view_module": "@jupyter-widgets/controls",
      "_view_module_version": "1.5.0",
      "_view_name": "HBoxView",
      "box_style": "",
      "children": [
       "IPY_MODEL_f8160d7fe38b4d459a91dee0ab3581ae",
       "IPY_MODEL_2fd19658eba44080b4de28417bc6c96b",
       "IPY_MODEL_13148af899494292bdcabc1771a3544b"
      ],
      "layout": "IPY_MODEL_ab03922156884482b5c46f4f4f29a47f"
     }
    },
    "2fd19658eba44080b4de28417bc6c96b": {
     "model_module": "@jupyter-widgets/controls",
     "model_module_version": "1.5.0",
     "model_name": "FloatProgressModel",
     "state": {
      "_dom_classes": [],
      "_model_module": "@jupyter-widgets/controls",
      "_model_module_version": "1.5.0",
      "_model_name": "FloatProgressModel",
      "_view_count": null,
      "_view_module": "@jupyter-widgets/controls",
      "_view_module_version": "1.5.0",
      "_view_name": "ProgressView",
      "bar_style": "success",
      "description": "",
      "description_tooltip": null,
      "layout": "IPY_MODEL_6e9320794ba74a7a88d3d59dc26f38b2",
      "max": 1,
      "min": 0,
      "orientation": "horizontal",
      "style": "IPY_MODEL_5791b5e585174357999f4edc4a390ca5",
      "value": 1
     }
    },
    "32c007cb6ecd4116935224a133ffa9a4": {
     "model_module": "@jupyter-widgets/base",
     "model_module_version": "1.2.0",
     "model_name": "LayoutModel",
     "state": {
      "_model_module": "@jupyter-widgets/base",
      "_model_module_version": "1.2.0",
      "_model_name": "LayoutModel",
      "_view_count": null,
      "_view_module": "@jupyter-widgets/base",
      "_view_module_version": "1.2.0",
      "_view_name": "LayoutView",
      "align_content": null,
      "align_items": null,
      "align_self": null,
      "border": null,
      "bottom": null,
      "display": null,
      "flex": null,
      "flex_flow": null,
      "grid_area": null,
      "grid_auto_columns": null,
      "grid_auto_flow": null,
      "grid_auto_rows": null,
      "grid_column": null,
      "grid_gap": null,
      "grid_row": null,
      "grid_template_areas": null,
      "grid_template_columns": null,
      "grid_template_rows": null,
      "height": null,
      "justify_content": null,
      "justify_items": null,
      "left": null,
      "margin": null,
      "max_height": null,
      "max_width": null,
      "min_height": null,
      "min_width": null,
      "object_fit": null,
      "object_position": null,
      "order": null,
      "overflow": null,
      "overflow_x": null,
      "overflow_y": null,
      "padding": null,
      "right": null,
      "top": null,
      "visibility": null,
      "width": null
     }
    },
    "38524d275a674e9f9bf6f7a634244149": {
     "model_module": "@jupyter-widgets/controls",
     "model_module_version": "1.5.0",
     "model_name": "HTMLModel",
     "state": {
      "_dom_classes": [],
      "_model_module": "@jupyter-widgets/controls",
      "_model_module_version": "1.5.0",
      "_model_name": "HTMLModel",
      "_view_count": null,
      "_view_module": "@jupyter-widgets/controls",
      "_view_module_version": "1.5.0",
      "_view_name": "HTMLView",
      "description": "",
      "description_tooltip": null,
      "layout": "IPY_MODEL_99adf923535048eeba425a3d85bbb3fa",
      "placeholder": "​",
      "style": "IPY_MODEL_fcab4b82ebf44e48b40be06bd25ae815",
      "value": "Dl Completed...: 100%"
     }
    },
    "5791b5e585174357999f4edc4a390ca5": {
     "model_module": "@jupyter-widgets/controls",
     "model_module_version": "1.5.0",
     "model_name": "ProgressStyleModel",
     "state": {
      "_model_module": "@jupyter-widgets/controls",
      "_model_module_version": "1.5.0",
      "_model_name": "ProgressStyleModel",
      "_view_count": null,
      "_view_module": "@jupyter-widgets/base",
      "_view_module_version": "1.2.0",
      "_view_name": "StyleView",
      "bar_color": null,
      "description_width": ""
     }
    },
    "5b58261b3af44be68ec8ccc4c44d56ed": {
     "model_module": "@jupyter-widgets/controls",
     "model_module_version": "1.5.0",
     "model_name": "DescriptionStyleModel",
     "state": {
      "_model_module": "@jupyter-widgets/controls",
      "_model_module_version": "1.5.0",
      "_model_name": "DescriptionStyleModel",
      "_view_count": null,
      "_view_module": "@jupyter-widgets/base",
      "_view_module_version": "1.2.0",
      "_view_name": "StyleView",
      "description_width": ""
     }
    },
    "5d2efad9619849de87ae437b17793d9a": {
     "model_module": "@jupyter-widgets/controls",
     "model_module_version": "1.5.0",
     "model_name": "HTMLModel",
     "state": {
      "_dom_classes": [],
      "_model_module": "@jupyter-widgets/controls",
      "_model_module_version": "1.5.0",
      "_model_name": "HTMLModel",
      "_view_count": null,
      "_view_module": "@jupyter-widgets/controls",
      "_view_module_version": "1.5.0",
      "_view_name": "HTMLView",
      "description": "",
      "description_tooltip": null,
      "layout": "IPY_MODEL_16425e6191af4e18ac4937d96af1c6a5",
      "placeholder": "​",
      "style": "IPY_MODEL_af66ef1875374bd388d8c4387f47c45f",
      "value": "Extraction completed...: 100%"
     }
    },
    "67a8750fc8c24b1eb2b4e5c60cdd1e74": {
     "model_module": "@jupyter-widgets/base",
     "model_module_version": "1.2.0",
     "model_name": "LayoutModel",
     "state": {
      "_model_module": "@jupyter-widgets/base",
      "_model_module_version": "1.2.0",
      "_model_name": "LayoutModel",
      "_view_count": null,
      "_view_module": "@jupyter-widgets/base",
      "_view_module_version": "1.2.0",
      "_view_name": "LayoutView",
      "align_content": null,
      "align_items": null,
      "align_self": null,
      "border": null,
      "bottom": null,
      "display": null,
      "flex": null,
      "flex_flow": null,
      "grid_area": null,
      "grid_auto_columns": null,
      "grid_auto_flow": null,
      "grid_auto_rows": null,
      "grid_column": null,
      "grid_gap": null,
      "grid_row": null,
      "grid_template_areas": null,
      "grid_template_columns": null,
      "grid_template_rows": null,
      "height": null,
      "justify_content": null,
      "justify_items": null,
      "left": null,
      "margin": null,
      "max_height": null,
      "max_width": null,
      "min_height": null,
      "min_width": null,
      "object_fit": null,
      "object_position": null,
      "order": null,
      "overflow": null,
      "overflow_x": null,
      "overflow_y": null,
      "padding": null,
      "right": null,
      "top": null,
      "visibility": null,
      "width": null
     }
    },
    "6e9320794ba74a7a88d3d59dc26f38b2": {
     "model_module": "@jupyter-widgets/base",
     "model_module_version": "1.2.0",
     "model_name": "LayoutModel",
     "state": {
      "_model_module": "@jupyter-widgets/base",
      "_model_module_version": "1.2.0",
      "_model_name": "LayoutModel",
      "_view_count": null,
      "_view_module": "@jupyter-widgets/base",
      "_view_module_version": "1.2.0",
      "_view_name": "LayoutView",
      "align_content": null,
      "align_items": null,
      "align_self": null,
      "border": null,
      "bottom": null,
      "display": null,
      "flex": null,
      "flex_flow": null,
      "grid_area": null,
      "grid_auto_columns": null,
      "grid_auto_flow": null,
      "grid_auto_rows": null,
      "grid_column": null,
      "grid_gap": null,
      "grid_row": null,
      "grid_template_areas": null,
      "grid_template_columns": null,
      "grid_template_rows": null,
      "height": null,
      "justify_content": null,
      "justify_items": null,
      "left": null,
      "margin": null,
      "max_height": null,
      "max_width": null,
      "min_height": null,
      "min_width": null,
      "object_fit": null,
      "object_position": null,
      "order": null,
      "overflow": null,
      "overflow_x": null,
      "overflow_y": null,
      "padding": null,
      "right": null,
      "top": null,
      "visibility": null,
      "width": "20px"
     }
    },
    "715568a830754c3791c4e7da7b0085f3": {
     "model_module": "@jupyter-widgets/controls",
     "model_module_version": "1.5.0",
     "model_name": "ProgressStyleModel",
     "state": {
      "_model_module": "@jupyter-widgets/controls",
      "_model_module_version": "1.5.0",
      "_model_name": "ProgressStyleModel",
      "_view_count": null,
      "_view_module": "@jupyter-widgets/base",
      "_view_module_version": "1.2.0",
      "_view_name": "StyleView",
      "bar_color": null,
      "description_width": ""
     }
    },
    "7e1f153def71411a8042d095e4cea754": {
     "model_module": "@jupyter-widgets/controls",
     "model_module_version": "1.5.0",
     "model_name": "FloatProgressModel",
     "state": {
      "_dom_classes": [],
      "_model_module": "@jupyter-widgets/controls",
      "_model_module_version": "1.5.0",
      "_model_name": "FloatProgressModel",
      "_view_count": null,
      "_view_module": "@jupyter-widgets/controls",
      "_view_module_version": "1.5.0",
      "_view_name": "ProgressView",
      "bar_style": "success",
      "description": "",
      "description_tooltip": null,
      "layout": "IPY_MODEL_ca345171b0604a5bae67a9b64f8614e0",
      "max": 1,
      "min": 0,
      "orientation": "horizontal",
      "style": "IPY_MODEL_9cf7ee1f76cf41ea910cee27872f91e0",
      "value": 1
     }
    },
    "7e6a2e29db314a37b38f3beb6b563abd": {
     "model_module": "@jupyter-widgets/controls",
     "model_module_version": "1.5.0",
     "model_name": "HBoxModel",
     "state": {
      "_dom_classes": [],
      "_model_module": "@jupyter-widgets/controls",
      "_model_module_version": "1.5.0",
      "_model_name": "HBoxModel",
      "_view_count": null,
      "_view_module": "@jupyter-widgets/controls",
      "_view_module_version": "1.5.0",
      "_view_name": "HBoxView",
      "box_style": "",
      "children": [
       "IPY_MODEL_38524d275a674e9f9bf6f7a634244149",
       "IPY_MODEL_7e1f153def71411a8042d095e4cea754",
       "IPY_MODEL_b8a7307d81f148f0931ed5ff860fe1c6"
      ],
      "layout": "IPY_MODEL_32c007cb6ecd4116935224a133ffa9a4"
     }
    },
    "99adf923535048eeba425a3d85bbb3fa": {
     "model_module": "@jupyter-widgets/base",
     "model_module_version": "1.2.0",
     "model_name": "LayoutModel",
     "state": {
      "_model_module": "@jupyter-widgets/base",
      "_model_module_version": "1.2.0",
      "_model_name": "LayoutModel",
      "_view_count": null,
      "_view_module": "@jupyter-widgets/base",
      "_view_module_version": "1.2.0",
      "_view_name": "LayoutView",
      "align_content": null,
      "align_items": null,
      "align_self": null,
      "border": null,
      "bottom": null,
      "display": null,
      "flex": null,
      "flex_flow": null,
      "grid_area": null,
      "grid_auto_columns": null,
      "grid_auto_flow": null,
      "grid_auto_rows": null,
      "grid_column": null,
      "grid_gap": null,
      "grid_row": null,
      "grid_template_areas": null,
      "grid_template_columns": null,
      "grid_template_rows": null,
      "height": null,
      "justify_content": null,
      "justify_items": null,
      "left": null,
      "margin": null,
      "max_height": null,
      "max_width": null,
      "min_height": null,
      "min_width": null,
      "object_fit": null,
      "object_position": null,
      "order": null,
      "overflow": null,
      "overflow_x": null,
      "overflow_y": null,
      "padding": null,
      "right": null,
      "top": null,
      "visibility": null,
      "width": null
     }
    },
    "9cf7ee1f76cf41ea910cee27872f91e0": {
     "model_module": "@jupyter-widgets/controls",
     "model_module_version": "1.5.0",
     "model_name": "ProgressStyleModel",
     "state": {
      "_model_module": "@jupyter-widgets/controls",
      "_model_module_version": "1.5.0",
      "_model_name": "ProgressStyleModel",
      "_view_count": null,
      "_view_module": "@jupyter-widgets/base",
      "_view_module_version": "1.2.0",
      "_view_name": "StyleView",
      "bar_color": null,
      "description_width": ""
     }
    },
    "ab03922156884482b5c46f4f4f29a47f": {
     "model_module": "@jupyter-widgets/base",
     "model_module_version": "1.2.0",
     "model_name": "LayoutModel",
     "state": {
      "_model_module": "@jupyter-widgets/base",
      "_model_module_version": "1.2.0",
      "_model_name": "LayoutModel",
      "_view_count": null,
      "_view_module": "@jupyter-widgets/base",
      "_view_module_version": "1.2.0",
      "_view_name": "LayoutView",
      "align_content": null,
      "align_items": null,
      "align_self": null,
      "border": null,
      "bottom": null,
      "display": null,
      "flex": null,
      "flex_flow": null,
      "grid_area": null,
      "grid_auto_columns": null,
      "grid_auto_flow": null,
      "grid_auto_rows": null,
      "grid_column": null,
      "grid_gap": null,
      "grid_row": null,
      "grid_template_areas": null,
      "grid_template_columns": null,
      "grid_template_rows": null,
      "height": null,
      "justify_content": null,
      "justify_items": null,
      "left": null,
      "margin": null,
      "max_height": null,
      "max_width": null,
      "min_height": null,
      "min_width": null,
      "object_fit": null,
      "object_position": null,
      "order": null,
      "overflow": null,
      "overflow_x": null,
      "overflow_y": null,
      "padding": null,
      "right": null,
      "top": null,
      "visibility": null,
      "width": null
     }
    },
    "af66ef1875374bd388d8c4387f47c45f": {
     "model_module": "@jupyter-widgets/controls",
     "model_module_version": "1.5.0",
     "model_name": "DescriptionStyleModel",
     "state": {
      "_model_module": "@jupyter-widgets/controls",
      "_model_module_version": "1.5.0",
      "_model_name": "DescriptionStyleModel",
      "_view_count": null,
      "_view_module": "@jupyter-widgets/base",
      "_view_module_version": "1.2.0",
      "_view_name": "StyleView",
      "description_width": ""
     }
    },
    "b8a7307d81f148f0931ed5ff860fe1c6": {
     "model_module": "@jupyter-widgets/controls",
     "model_module_version": "1.5.0",
     "model_name": "HTMLModel",
     "state": {
      "_dom_classes": [],
      "_model_module": "@jupyter-widgets/controls",
      "_model_module_version": "1.5.0",
      "_model_name": "HTMLModel",
      "_view_count": null,
      "_view_module": "@jupyter-widgets/controls",
      "_view_module_version": "1.5.0",
      "_view_name": "HTMLView",
      "description": "",
      "description_tooltip": null,
      "layout": "IPY_MODEL_c735ed89581d47b4946bb50f955daf04",
      "placeholder": "​",
      "style": "IPY_MODEL_5b58261b3af44be68ec8ccc4c44d56ed",
      "value": " 1/1 [00:00&lt;00:00,  1.66 url/s]"
     }
    },
    "b900a84e8de34c188e8bbbf845975025": {
     "model_module": "@jupyter-widgets/controls",
     "model_module_version": "1.5.0",
     "model_name": "DescriptionStyleModel",
     "state": {
      "_model_module": "@jupyter-widgets/controls",
      "_model_module_version": "1.5.0",
      "_model_name": "DescriptionStyleModel",
      "_view_count": null,
      "_view_module": "@jupyter-widgets/base",
      "_view_module_version": "1.2.0",
      "_view_name": "StyleView",
      "description_width": ""
     }
    },
    "c735ed89581d47b4946bb50f955daf04": {
     "model_module": "@jupyter-widgets/base",
     "model_module_version": "1.2.0",
     "model_name": "LayoutModel",
     "state": {
      "_model_module": "@jupyter-widgets/base",
      "_model_module_version": "1.2.0",
      "_model_name": "LayoutModel",
      "_view_count": null,
      "_view_module": "@jupyter-widgets/base",
      "_view_module_version": "1.2.0",
      "_view_name": "LayoutView",
      "align_content": null,
      "align_items": null,
      "align_self": null,
      "border": null,
      "bottom": null,
      "display": null,
      "flex": null,
      "flex_flow": null,
      "grid_area": null,
      "grid_auto_columns": null,
      "grid_auto_flow": null,
      "grid_auto_rows": null,
      "grid_column": null,
      "grid_gap": null,
      "grid_row": null,
      "grid_template_areas": null,
      "grid_template_columns": null,
      "grid_template_rows": null,
      "height": null,
      "justify_content": null,
      "justify_items": null,
      "left": null,
      "margin": null,
      "max_height": null,
      "max_width": null,
      "min_height": null,
      "min_width": null,
      "object_fit": null,
      "object_position": null,
      "order": null,
      "overflow": null,
      "overflow_x": null,
      "overflow_y": null,
      "padding": null,
      "right": null,
      "top": null,
      "visibility": null,
      "width": null
     }
    },
    "c9075893e0a342d98f7c7febf4bd6f25": {
     "model_module": "@jupyter-widgets/controls",
     "model_module_version": "1.5.0",
     "model_name": "HBoxModel",
     "state": {
      "_dom_classes": [],
      "_model_module": "@jupyter-widgets/controls",
      "_model_module_version": "1.5.0",
      "_model_name": "HBoxModel",
      "_view_count": null,
      "_view_module": "@jupyter-widgets/controls",
      "_view_module_version": "1.5.0",
      "_view_name": "HBoxView",
      "box_style": "",
      "children": [
       "IPY_MODEL_5d2efad9619849de87ae437b17793d9a",
       "IPY_MODEL_09e5404b48454e9982ca0ae215abe09f",
       "IPY_MODEL_ca85f59b195840f4809b7447f73c211c"
      ],
      "layout": "IPY_MODEL_160ee4ba12f5455c88d721805dd500e6"
     }
    },
    "ca345171b0604a5bae67a9b64f8614e0": {
     "model_module": "@jupyter-widgets/base",
     "model_module_version": "1.2.0",
     "model_name": "LayoutModel",
     "state": {
      "_model_module": "@jupyter-widgets/base",
      "_model_module_version": "1.2.0",
      "_model_name": "LayoutModel",
      "_view_count": null,
      "_view_module": "@jupyter-widgets/base",
      "_view_module_version": "1.2.0",
      "_view_name": "LayoutView",
      "align_content": null,
      "align_items": null,
      "align_self": null,
      "border": null,
      "bottom": null,
      "display": null,
      "flex": null,
      "flex_flow": null,
      "grid_area": null,
      "grid_auto_columns": null,
      "grid_auto_flow": null,
      "grid_auto_rows": null,
      "grid_column": null,
      "grid_gap": null,
      "grid_row": null,
      "grid_template_areas": null,
      "grid_template_columns": null,
      "grid_template_rows": null,
      "height": null,
      "justify_content": null,
      "justify_items": null,
      "left": null,
      "margin": null,
      "max_height": null,
      "max_width": null,
      "min_height": null,
      "min_width": null,
      "object_fit": null,
      "object_position": null,
      "order": null,
      "overflow": null,
      "overflow_x": null,
      "overflow_y": null,
      "padding": null,
      "right": null,
      "top": null,
      "visibility": null,
      "width": "20px"
     }
    },
    "ca85f59b195840f4809b7447f73c211c": {
     "model_module": "@jupyter-widgets/controls",
     "model_module_version": "1.5.0",
     "model_name": "HTMLModel",
     "state": {
      "_dom_classes": [],
      "_model_module": "@jupyter-widgets/controls",
      "_model_module_version": "1.5.0",
      "_model_name": "HTMLModel",
      "_view_count": null,
      "_view_module": "@jupyter-widgets/controls",
      "_view_module_version": "1.5.0",
      "_view_name": "HTMLView",
      "description": "",
      "description_tooltip": null,
      "layout": "IPY_MODEL_d1636c7a7a4c47c7ae397e999e9a12c4",
      "placeholder": "​",
      "style": "IPY_MODEL_f2467b2679a54bc29bfc820eb22cf2a8",
      "value": " 1/1 [00:00&lt;00:00,  1.39 file/s]"
     }
    },
    "d1636c7a7a4c47c7ae397e999e9a12c4": {
     "model_module": "@jupyter-widgets/base",
     "model_module_version": "1.2.0",
     "model_name": "LayoutModel",
     "state": {
      "_model_module": "@jupyter-widgets/base",
      "_model_module_version": "1.2.0",
      "_model_name": "LayoutModel",
      "_view_count": null,
      "_view_module": "@jupyter-widgets/base",
      "_view_module_version": "1.2.0",
      "_view_name": "LayoutView",
      "align_content": null,
      "align_items": null,
      "align_self": null,
      "border": null,
      "bottom": null,
      "display": null,
      "flex": null,
      "flex_flow": null,
      "grid_area": null,
      "grid_auto_columns": null,
      "grid_auto_flow": null,
      "grid_auto_rows": null,
      "grid_column": null,
      "grid_gap": null,
      "grid_row": null,
      "grid_template_areas": null,
      "grid_template_columns": null,
      "grid_template_rows": null,
      "height": null,
      "justify_content": null,
      "justify_items": null,
      "left": null,
      "margin": null,
      "max_height": null,
      "max_width": null,
      "min_height": null,
      "min_width": null,
      "object_fit": null,
      "object_position": null,
      "order": null,
      "overflow": null,
      "overflow_x": null,
      "overflow_y": null,
      "padding": null,
      "right": null,
      "top": null,
      "visibility": null,
      "width": null
     }
    },
    "e7ee06b4a69f4e5ebb06bde787aa217d": {
     "model_module": "@jupyter-widgets/controls",
     "model_module_version": "1.5.0",
     "model_name": "DescriptionStyleModel",
     "state": {
      "_model_module": "@jupyter-widgets/controls",
      "_model_module_version": "1.5.0",
      "_model_name": "DescriptionStyleModel",
      "_view_count": null,
      "_view_module": "@jupyter-widgets/base",
      "_view_module_version": "1.2.0",
      "_view_name": "StyleView",
      "description_width": ""
     }
    },
    "f2467b2679a54bc29bfc820eb22cf2a8": {
     "model_module": "@jupyter-widgets/controls",
     "model_module_version": "1.5.0",
     "model_name": "DescriptionStyleModel",
     "state": {
      "_model_module": "@jupyter-widgets/controls",
      "_model_module_version": "1.5.0",
      "_model_name": "DescriptionStyleModel",
      "_view_count": null,
      "_view_module": "@jupyter-widgets/base",
      "_view_module_version": "1.2.0",
      "_view_name": "StyleView",
      "description_width": ""
     }
    },
    "f4d43cc05d3d4702944567003907554b": {
     "model_module": "@jupyter-widgets/base",
     "model_module_version": "1.2.0",
     "model_name": "LayoutModel",
     "state": {
      "_model_module": "@jupyter-widgets/base",
      "_model_module_version": "1.2.0",
      "_model_name": "LayoutModel",
      "_view_count": null,
      "_view_module": "@jupyter-widgets/base",
      "_view_module_version": "1.2.0",
      "_view_name": "LayoutView",
      "align_content": null,
      "align_items": null,
      "align_self": null,
      "border": null,
      "bottom": null,
      "display": null,
      "flex": null,
      "flex_flow": null,
      "grid_area": null,
      "grid_auto_columns": null,
      "grid_auto_flow": null,
      "grid_auto_rows": null,
      "grid_column": null,
      "grid_gap": null,
      "grid_row": null,
      "grid_template_areas": null,
      "grid_template_columns": null,
      "grid_template_rows": null,
      "height": null,
      "justify_content": null,
      "justify_items": null,
      "left": null,
      "margin": null,
      "max_height": null,
      "max_width": null,
      "min_height": null,
      "min_width": null,
      "object_fit": null,
      "object_position": null,
      "order": null,
      "overflow": null,
      "overflow_x": null,
      "overflow_y": null,
      "padding": null,
      "right": null,
      "top": null,
      "visibility": null,
      "width": null
     }
    },
    "f8160d7fe38b4d459a91dee0ab3581ae": {
     "model_module": "@jupyter-widgets/controls",
     "model_module_version": "1.5.0",
     "model_name": "HTMLModel",
     "state": {
      "_dom_classes": [],
      "_model_module": "@jupyter-widgets/controls",
      "_model_module_version": "1.5.0",
      "_model_name": "HTMLModel",
      "_view_count": null,
      "_view_module": "@jupyter-widgets/controls",
      "_view_module_version": "1.5.0",
      "_view_name": "HTMLView",
      "description": "",
      "description_tooltip": null,
      "layout": "IPY_MODEL_67a8750fc8c24b1eb2b4e5c60cdd1e74",
      "placeholder": "​",
      "style": "IPY_MODEL_b900a84e8de34c188e8bbbf845975025",
      "value": "Dl Size...: 100%"
     }
    },
    "fcab4b82ebf44e48b40be06bd25ae815": {
     "model_module": "@jupyter-widgets/controls",
     "model_module_version": "1.5.0",
     "model_name": "DescriptionStyleModel",
     "state": {
      "_model_module": "@jupyter-widgets/controls",
      "_model_module_version": "1.5.0",
      "_model_name": "DescriptionStyleModel",
      "_view_count": null,
      "_view_module": "@jupyter-widgets/base",
      "_view_module_version": "1.2.0",
      "_view_name": "StyleView",
      "description_width": ""
     }
    },
    "ff62b14e893843099e923db30e1a3bc3": {
     "model_module": "@jupyter-widgets/base",
     "model_module_version": "1.2.0",
     "model_name": "LayoutModel",
     "state": {
      "_model_module": "@jupyter-widgets/base",
      "_model_module_version": "1.2.0",
      "_model_name": "LayoutModel",
      "_view_count": null,
      "_view_module": "@jupyter-widgets/base",
      "_view_module_version": "1.2.0",
      "_view_name": "LayoutView",
      "align_content": null,
      "align_items": null,
      "align_self": null,
      "border": null,
      "bottom": null,
      "display": null,
      "flex": null,
      "flex_flow": null,
      "grid_area": null,
      "grid_auto_columns": null,
      "grid_auto_flow": null,
      "grid_auto_rows": null,
      "grid_column": null,
      "grid_gap": null,
      "grid_row": null,
      "grid_template_areas": null,
      "grid_template_columns": null,
      "grid_template_rows": null,
      "height": null,
      "justify_content": null,
      "justify_items": null,
      "left": null,
      "margin": null,
      "max_height": null,
      "max_width": null,
      "min_height": null,
      "min_width": null,
      "object_fit": null,
      "object_position": null,
      "order": null,
      "overflow": null,
      "overflow_x": null,
      "overflow_y": null,
      "padding": null,
      "right": null,
      "top": null,
      "visibility": null,
      "width": "20px"
     }
    }
   }
  }
 },
 "nbformat": 4,
 "nbformat_minor": 1
}
